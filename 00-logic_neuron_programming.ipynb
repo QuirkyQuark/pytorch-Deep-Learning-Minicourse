{
 "cells": [
  {
   "cell_type": "markdown",
   "metadata": {},
   "source": [
    "# Code your own neuron and neural net\n",
    "The parts of code that look like\n",
    "```python\n",
    "pass  # ⬅️✏️\n",
    "```\n",
    "need to be filled in before moving to the next cell.\n",
    "\n",
    "Check out the slides and / or corresponding video lecture for more instructions."
   ]
  },
  {
   "cell_type": "code",
   "execution_count": 3,
   "metadata": {
    "ExecuteTime": {
     "end_time": "2020-02-06T20:57:49.809675Z",
     "start_time": "2020-02-06T20:57:49.805408Z"
    },
    "lines_to_next_cell": 1
   },
   "outputs": [],
   "source": [
    "# Define two vectors (lists): input my_x, weights my_w\n",
    "my_x = [0, 1, 1]\n",
    "my_w = [-10, 10, 5]"
   ]
  },
  {
   "cell_type": "code",
   "execution_count": 4,
   "metadata": {
    "ExecuteTime": {
     "end_time": "2020-02-06T20:57:50.372449Z",
     "start_time": "2020-02-06T20:57:50.365801Z"
    }
   },
   "outputs": [],
   "source": [
    "# Multiply two lists element wise\n",
    "def mul(a, b):\n",
    "    \"\"\"\n",
    "    return a list c, same length as a, element c[i] = a[i] * b[i]\n",
    "    \"len(list)\" and \"[0] * n\" may be useful\n",
    "    \"\"\"\n",
    "    if len(a) != len(b):\n",
    "        raise ValueError(\"dimension mismatch\")\n",
    "    n = len(a)\n",
    "    c = [0] * n  \n",
    "    for i in range(n):\n",
    "        c[i] = a[i] * b[i]\n",
    "    \n",
    "    return c"
   ]
  },
  {
   "cell_type": "markdown",
   "metadata": {},
   "source": [
    "---"
   ]
  },
  {
   "cell_type": "code",
   "execution_count": 5,
   "metadata": {
    "ExecuteTime": {
     "end_time": "2020-02-06T20:57:51.134307Z",
     "start_time": "2020-02-06T20:57:51.125712Z"
    }
   },
   "outputs": [
    {
     "data": {
      "text/plain": [
       "[0, 10, 5]"
      ]
     },
     "execution_count": 5,
     "metadata": {},
     "output_type": "execute_result"
    }
   ],
   "source": [
    "# Test mul() function\n",
    "mul(my_x, my_w)"
   ]
  },
  {
   "cell_type": "code",
   "execution_count": 6,
   "metadata": {
    "ExecuteTime": {
     "end_time": "2020-02-06T20:57:53.399069Z",
     "start_time": "2020-02-06T20:57:53.395464Z"
    },
    "lines_to_next_cell": 1
   },
   "outputs": [],
   "source": [
    "# Define a scalar: bias b\n",
    "my_b = -5"
   ]
  },
  {
   "cell_type": "code",
   "execution_count": 9,
   "metadata": {
    "ExecuteTime": {
     "end_time": "2020-02-06T20:59:53.948674Z",
     "start_time": "2020-02-06T20:59:53.945334Z"
    }
   },
   "outputs": [],
   "source": [
    "# Neuron linear (internal) potential\n",
    "def linear_neuron(x, weights, bias):\n",
    "    \"\"\"\n",
    "    return a scalar value representing a scalar neuron\n",
    "    \"sum(list)\" computes the sum of the elements in a list\n",
    "    \"\"\"\n",
    "    return sum(mul(x,weights)) + bias"
   ]
  },
  {
   "cell_type": "markdown",
   "metadata": {},
   "source": [
    "---"
   ]
  },
  {
   "cell_type": "code",
   "execution_count": 10,
   "metadata": {
    "ExecuteTime": {
     "end_time": "2020-02-06T20:59:54.992756Z",
     "start_time": "2020-02-06T20:59:54.987105Z"
    }
   },
   "outputs": [
    {
     "data": {
      "text/plain": [
       "10"
      ]
     },
     "execution_count": 10,
     "metadata": {},
     "output_type": "execute_result"
    }
   ],
   "source": [
    "# Test linear_neuron() function\n",
    "linear_neuron(my_x, my_w, my_b)"
   ]
  },
  {
   "cell_type": "code",
   "execution_count": 11,
   "metadata": {
    "ExecuteTime": {
     "end_time": "2020-02-06T21:00:06.032113Z",
     "start_time": "2020-02-06T21:00:06.028131Z"
    },
    "lines_to_next_cell": 1
   },
   "outputs": [],
   "source": [
    "# Import exp() function (safe on lists)\n",
    "from numpy import exp"
   ]
  },
  {
   "cell_type": "code",
   "execution_count": 12,
   "metadata": {
    "ExecuteTime": {
     "end_time": "2020-02-06T21:01:04.548926Z",
     "start_time": "2020-02-06T21:01:04.545837Z"
    }
   },
   "outputs": [],
   "source": [
    "# Logistic sigmoid\n",
    "def sigmoid(z):\n",
    "    \"\"\"\n",
    "    return the logistic sigmoid (use exp())\n",
    "    \"\"\"\n",
    "    return exp(z)/(1+exp(z))"
   ]
  },
  {
   "cell_type": "markdown",
   "metadata": {},
   "source": [
    "---"
   ]
  },
  {
   "cell_type": "code",
   "execution_count": 13,
   "metadata": {
    "ExecuteTime": {
     "end_time": "2020-02-06T21:01:07.803933Z",
     "start_time": "2020-02-06T21:01:07.797864Z"
    }
   },
   "outputs": [
    {
     "name": "stdout",
     "output_type": "stream",
     "text": [
      "0.006692850924284856\n",
      "0.5\n",
      "0.9933071490757152\n"
     ]
    }
   ],
   "source": [
    "# Try out σ() for different z values\n",
    "for z in (-5, 0, 5): print(sigmoid(z))"
   ]
  },
  {
   "cell_type": "code",
   "execution_count": 14,
   "metadata": {
    "ExecuteTime": {
     "end_time": "2020-02-06T21:01:16.951531Z",
     "start_time": "2020-02-06T21:01:15.388246Z"
    }
   },
   "outputs": [],
   "source": [
    "# Import some plotting stuff to graph sigmoid()\n",
    "from numpy import linspace\n",
    "from matplotlib.pyplot import plot, axhline, axvline, grid, style\n",
    "style.use('dark_background')"
   ]
  },
  {
   "cell_type": "code",
   "execution_count": 15,
   "metadata": {
    "ExecuteTime": {
     "end_time": "2020-02-06T21:01:17.175486Z",
     "start_time": "2020-02-06T21:01:16.961785Z"
    }
   },
   "outputs": [
    {
     "data": {
      "image/png": "[encoded data removed]",
      "text/plain": [
       "<Figure size 432x288 with 1 Axes>"
      ]
     },
     "metadata": {
      "needs_background": "dark"
     },
     "output_type": "display_data"
    }
   ],
   "source": [
    "# Get a pair of axis and grid lines centred in (0, 0)\n",
    "axhline(c='.2'); axvline(color='.2')\n",
    "grid(c='.1', ls='--')\n",
    "\n",
    "# Plot across a span of numbers\n",
    "z = linspace(-7.5, 7.5)\n",
    "plot(z, sigmoid(z));"
   ]
  },
  {
   "cell_type": "code",
   "execution_count": 16,
   "metadata": {
    "ExecuteTime": {
     "end_time": "2020-02-06T21:03:50.884834Z",
     "start_time": "2020-02-06T21:03:50.879912Z"
    }
   },
   "outputs": [],
   "source": [
    "# Full neuron function\n",
    "def neuron(x, weights, bias):\n",
    "    \"\"\"\n",
    "    Return a classical neuron output (reuse code above)\n",
    "    \"\"\"\n",
    "    return sigmoid(linear_neuron(x, weights, bias))"
   ]
  },
  {
   "cell_type": "markdown",
   "metadata": {},
   "source": [
    "---"
   ]
  },
  {
   "cell_type": "code",
   "execution_count": 17,
   "metadata": {
    "ExecuteTime": {
     "end_time": "2020-02-06T21:03:53.443803Z",
     "start_time": "2020-02-06T21:03:53.437524Z"
    }
   },
   "outputs": [
    {
     "data": {
      "text/plain": [
       "0.9999546021312976"
      ]
     },
     "execution_count": 17,
     "metadata": {},
     "output_type": "execute_result"
    }
   ],
   "source": [
    "# Test neuron() function\n",
    "neuron(my_x, my_w, my_b)"
   ]
  },
  {
   "cell_type": "code",
   "execution_count": 26,
   "metadata": {
    "ExecuteTime": {
     "end_time": "2020-02-06T21:06:24.553611Z",
     "start_time": "2020-02-06T21:06:24.549156Z"
    },
    "lines_to_next_cell": 1
   },
   "outputs": [],
   "source": [
    "# Package OR neuron weights and bias\n",
    "def or_neuron(x):\n",
    "    \"\"\"\n",
    "    Return x1 OR x2 (x1 + x2)\n",
    "    \"\"\"\n",
    "    return x[0] or x[1]"
   ]
  },
  {
   "cell_type": "markdown",
   "metadata": {},
   "source": [
    "---"
   ]
  },
  {
   "cell_type": "code",
   "execution_count": 27,
   "metadata": {
    "ExecuteTime": {
     "end_time": "2020-02-06T21:06:25.163134Z",
     "start_time": "2020-02-06T21:06:25.158690Z"
    }
   },
   "outputs": [],
   "source": [
    "# Defina a collection of inputs to test OR and AND\n",
    "my_x_collection = [\n",
    "    [0, 0],\n",
    "    [0, 1],\n",
    "    [1, 0],\n",
    "    [1, 1],\n",
    "]"
   ]
  },
  {
   "cell_type": "code",
   "execution_count": 28,
   "metadata": {
    "ExecuteTime": {
     "end_time": "2020-02-06T21:06:25.435794Z",
     "start_time": "2020-02-06T21:06:25.429611Z"
    },
    "lines_to_next_cell": 1
   },
   "outputs": [
    {
     "name": "stdout",
     "output_type": "stream",
     "text": [
      "Checking OR neuron output\n",
      "[0, 0] 0.000\n",
      "[0, 1] 1.000\n",
      "[1, 0] 1.000\n",
      "[1, 1] 1.000\n"
     ]
    }
   ],
   "source": [
    "print('Checking OR neuron output')\n",
    "for my_x in my_x_collection:\n",
    "    print(my_x, f'{or_neuron(my_x):.3f}')"
   ]
  },
  {
   "cell_type": "code",
   "execution_count": 29,
   "metadata": {
    "ExecuteTime": {
     "end_time": "2020-02-06T21:06:37.664697Z",
     "start_time": "2020-02-06T21:06:37.659947Z"
    },
    "lines_to_next_cell": 1
   },
   "outputs": [],
   "source": [
    "# Package AND neuron weights and bias\n",
    "def and_neuron(x):\n",
    "    \"\"\"\n",
    "    Return x1 AND x2 (x1 * x2)\n",
    "    \"\"\"\n",
    "    return x[0] and x[1]"
   ]
  },
  {
   "cell_type": "markdown",
   "metadata": {},
   "source": [
    "---"
   ]
  },
  {
   "cell_type": "code",
   "execution_count": 30,
   "metadata": {
    "ExecuteTime": {
     "end_time": "2020-02-06T21:06:38.471003Z",
     "start_time": "2020-02-06T21:06:38.466959Z"
    },
    "lines_to_next_cell": 1
   },
   "outputs": [
    {
     "name": "stdout",
     "output_type": "stream",
     "text": [
      "Checking AND neuron output\n",
      "[0, 0] 0.000\n",
      "[0, 1] 0.000\n",
      "[1, 0] 0.000\n",
      "[1, 1] 1.000\n"
     ]
    }
   ],
   "source": [
    "print('Checking AND neuron output')\n",
    "for my_x in my_x_collection:\n",
    "    print(my_x, f'{and_neuron(my_x):.3f}')"
   ]
  },
  {
   "cell_type": "code",
   "execution_count": 38,
   "metadata": {
    "ExecuteTime": {
     "end_time": "2020-02-06T21:08:54.203540Z",
     "start_time": "2020-02-06T21:08:54.199291Z"
    },
    "lines_to_next_cell": 1
   },
   "outputs": [],
   "source": [
    "# Package NOT neuron weight and bias\n",
    "def not_neuron(x):\n",
    "    \"\"\"\n",
    "    Return NOT x1 (x1_)\n",
    "    \"\"\"\n",
    "    return ( x[0] + 1 ) % 2"
   ]
  },
  {
   "cell_type": "markdown",
   "metadata": {},
   "source": [
    "---"
   ]
  },
  {
   "cell_type": "code",
   "execution_count": 39,
   "metadata": {
    "ExecuteTime": {
     "end_time": "2020-02-06T21:08:55.035230Z",
     "start_time": "2020-02-06T21:08:55.028725Z"
    },
    "lines_to_next_cell": 1
   },
   "outputs": [
    {
     "name": "stdout",
     "output_type": "stream",
     "text": [
      "Checking NOT neuron output\n",
      "[0] 1.000\n",
      "[1] 0.000\n"
     ]
    }
   ],
   "source": [
    "print('Checking NOT neuron output')\n",
    "for my_x in [[0], [1]]:\n",
    "    print(my_x, f'{not_neuron(my_x):.3f}')"
   ]
  },
  {
   "cell_type": "markdown",
   "metadata": {},
   "source": [
    "![X-OR](res/x-or_circuit.png)"
   ]
  },
  {
   "cell_type": "code",
   "execution_count": 44,
   "metadata": {
    "ExecuteTime": {
     "end_time": "2020-02-06T21:16:47.263931Z",
     "start_time": "2020-02-06T21:16:47.257403Z"
    }
   },
   "outputs": [],
   "source": [
    "# Combine OR, AND, and NOT into a XOR neuron\n",
    "def xor_neuron(x):\n",
    "    \"\"\"\n",
    "    Return x1_ * x2 + x1 * x2_\n",
    "    \"\"\"\n",
    "    x1 = x[0]\n",
    "    x2 = x[1]\n",
    "    x1_ = not_neuron([x[0]])\n",
    "    x2_ = not_neuron([x[1]])\n",
    "    x1_x2 = and_neuron([x1_, x2])\n",
    "    x1x2_ = and_neuron([x1, x2_])\n",
    "    return or_neuron([x1_x2, x1x2_])"
   ]
  },
  {
   "cell_type": "markdown",
   "metadata": {},
   "source": [
    "---"
   ]
  },
  {
   "cell_type": "code",
   "execution_count": 45,
   "metadata": {
    "ExecuteTime": {
     "end_time": "2020-02-06T21:16:48.412798Z",
     "start_time": "2020-02-06T21:16:48.405649Z"
    }
   },
   "outputs": [
    {
     "name": "stdout",
     "output_type": "stream",
     "text": [
      "Checking XOR neuron output\n",
      "[0, 0] 0.000\n",
      "[0, 1] 1.000\n",
      "[1, 0] 1.000\n",
      "[1, 1] 0.000\n"
     ]
    }
   ],
   "source": [
    "print('Checking XOR neuron output')\n",
    "for my_x in my_x_collection:\n",
    "    print(my_x, f'{xor_neuron(my_x):.3f}')"
   ]
  },
  {
   "cell_type": "markdown",
   "metadata": {},
   "source": [
    "![Half-adder](res/half-adder_circuit.png)"
   ]
  },
  {
   "cell_type": "code",
   "execution_count": 75,
   "metadata": {
    "ExecuteTime": {
     "end_time": "2020-02-07T00:02:18.583436Z",
     "start_time": "2020-02-07T00:02:18.579527Z"
    }
   },
   "outputs": [],
   "source": [
    "# Combine a XOR and an AND into a half-adder\n",
    "def half_adder_neuron(x):\n",
    "    return xor_neuron(x), and_neuron(x)"
   ]
  },
  {
   "cell_type": "code",
   "execution_count": 76,
   "metadata": {
    "ExecuteTime": {
     "end_time": "2020-02-07T00:02:19.120118Z",
     "start_time": "2020-02-07T00:02:19.112831Z"
    }
   },
   "outputs": [
    {
     "name": "stdout",
     "output_type": "stream",
     "text": [
      "Checking XOR neuron output\n",
      "my_x\tS\tC_out\n",
      "[0, 0]\t0\t0\n",
      "[0, 1]\t1\t0\n",
      "[1, 0]\t1\t0\n",
      "[1, 1]\t0\t1\n"
     ]
    }
   ],
   "source": [
    "print('Checking XOR neuron output')\n",
    "print(\"my_x\\tS\\tC_out\")\n",
    "for my_x in my_x_collection:\n",
    "    S, C_out = half_adder_neuron(my_x)\n",
    "    print(\"{}\\t{}\\t{}\".format(my_x, S, C_out))"
   ]
  },
  {
   "cell_type": "markdown",
   "metadata": {},
   "source": [
    "---"
   ]
  },
  {
   "cell_type": "markdown",
   "metadata": {},
   "source": [
    "![Adder](res/adder_circuit.png)"
   ]
  },
  {
   "cell_type": "code",
   "execution_count": 88,
   "metadata": {
    "ExecuteTime": {
     "end_time": "2020-02-07T00:04:52.938831Z",
     "start_time": "2020-02-07T00:04:52.932314Z"
    }
   },
   "outputs": [],
   "source": [
    "# Combine XOR, AND, and OR into a (full) adder\n",
    "def full_adder_neuron_circuit(x, carry):\n",
    "    # S = xor(xor(A,B),C_in)\n",
    "    xorAB = xor_neuron(x)\n",
    "    S = xor_neuron([xorAB, carry])\n",
    "    \n",
    "    # C_out = or(and(A,B),and(xor(A,B),C_in))\n",
    "    andAB = and_neuron(x)\n",
    "    andABC = and_neuron([xorAB, carry])\n",
    "    C_out = or_neuron([andAB, andABC])\n",
    "    \n",
    "    return S, C_out"
   ]
  },
  {
   "cell_type": "code",
   "execution_count": 92,
   "metadata": {
    "ExecuteTime": {
     "end_time": "2020-02-07T00:05:22.314061Z",
     "start_time": "2020-02-07T00:05:22.304324Z"
    }
   },
   "outputs": [
    {
     "name": "stdout",
     "output_type": "stream",
     "text": [
      "Checking full adder neuron:\n",
      "my_x\tmy_carry\t:\tC_out\tS\n",
      "[0, 0]\t0\t\t:\t0\t0\n",
      "[0, 0]\t1\t\t:\t0\t1\n",
      "[0, 1]\t0\t\t:\t0\t1\n",
      "[0, 1]\t1\t\t:\t1\t0\n",
      "[1, 0]\t0\t\t:\t0\t1\n",
      "[1, 0]\t1\t\t:\t1\t0\n",
      "[1, 1]\t0\t\t:\t1\t0\n",
      "[1, 1]\t1\t\t:\t1\t1\n"
     ]
    }
   ],
   "source": [
    "#define a list of possible values for the carry, C_in\n",
    "my_carry_collection = [0,1]\n",
    "print(\"Checking full adder neuron:\")\n",
    "print(\"my_x\\tmy_carry\\t:\\tC_out\\tS\")\n",
    "for my_x in my_x_collection:\n",
    "    for my_carry in my_carry_collection:\n",
    "        S, C_out = full_adder_neuron_circuit(my_x, my_carry)\n",
    "        print(\"{}\\t{}\\t\\t:\\t{}\\t{}\".format(my_x,my_carry, C_out, S))"
   ]
  },
  {
   "cell_type": "code",
   "execution_count": 90,
   "metadata": {
    "ExecuteTime": {
     "end_time": "2020-02-07T00:04:54.075952Z",
     "start_time": "2020-02-07T00:04:54.070816Z"
    }
   },
   "outputs": [],
   "source": [
    "# Combine two half-adders and an OR into a (full) adder\n",
    "def full_adder_neuron(x, carry):\n",
    "    S1, C_out1 = half_adder_neuron(x)\n",
    "    S2, C_out2 = half_adder_neuron([S1, carry])\n",
    "    \n",
    "    return S2, or_neuron([C_out1, C_out2])"
   ]
  },
  {
   "cell_type": "code",
   "execution_count": 91,
   "metadata": {
    "ExecuteTime": {
     "end_time": "2020-02-07T00:04:54.644886Z",
     "start_time": "2020-02-07T00:04:54.632776Z"
    }
   },
   "outputs": [
    {
     "name": "stdout",
     "output_type": "stream",
     "text": [
      "Checking half-adder neuron:\n",
      "my_x\tmy_carry\t:\tC_out\tS\n",
      "[0, 0]\t0\t\t:\t0\t0\n",
      "[0, 0]\t1\t\t:\t0\t1\n",
      "[0, 1]\t0\t\t:\t0\t1\n",
      "[0, 1]\t1\t\t:\t1\t0\n",
      "[1, 0]\t0\t\t:\t0\t1\n",
      "[1, 0]\t1\t\t:\t1\t0\n",
      "[1, 1]\t0\t\t:\t1\t0\n",
      "[1, 1]\t1\t\t:\t1\t1\n"
     ]
    }
   ],
   "source": [
    "#define a list of possible values for the carry, C_in\n",
    "my_carry_collection = [0,1]\n",
    "print(\"Checking full adder neuron:\")\n",
    "print(\"my_x\\tmy_carry\\t:\\tC_out\\tS\")\n",
    "for my_x in my_x_collection:\n",
    "    for my_carry in my_carry_collection:\n",
    "        S, C_out = full_adder_neuron_circuit(my_x, my_carry)\n",
    "        print(\"{}\\t{}\\t\\t:\\t{}\\t{}\".format(my_x,my_carry, C_out, S))"
   ]
  },
  {
   "cell_type": "code",
   "execution_count": null,
   "metadata": {},
   "outputs": [],
   "source": []
  }
 ],
 "metadata": {
  "jupytext": {
   "encoding": "# -*- coding: utf-8 -*-"
  },
  "kernelspec": {
   "display_name": "Python 3",
   "language": "python",
   "name": "python3"
  },
  "language_info": {
   "codemirror_mode": {
    "name": "ipython",
    "version": 3
   },
   "file_extension": ".py",
   "mimetype": "text/x-python",
   "name": "python",
   "nbconvert_exporter": "python",
   "pygments_lexer": "ipython3",
   "version": "3.7.4"
  },
  "toc": {
   "base_numbering": 1,
   "nav_menu": {},
   "number_sections": true,
   "sideBar": true,
   "skip_h1_title": false,
   "title_cell": "Table of Contents",
   "title_sidebar": "Contents",
   "toc_cell": false,
   "toc_position": {},
   "toc_section_display": true,
   "toc_window_display": false
  },
  "varInspector": {
   "cols": {
    "lenName": 16,
    "lenType": 16,
    "lenVar": 40
   },
   "kernels_config": {
    "python": {
     "delete_cmd_postfix": "",
     "delete_cmd_prefix": "del ",
     "library": "var_list.py",
     "varRefreshCmd": "print(var_dic_list())"
    },
    "r": {
     "delete_cmd_postfix": ") ",
     "delete_cmd_prefix": "rm(",
     "library": "var_list.r",
     "varRefreshCmd": "cat(var_dic_list()) "
    }
   },
   "types_to_exclude": [
    "module",
    "function",
    "builtin_function_or_method",
    "instance",
    "_Feature"
   ],
   "window_display": false
  }
 },
 "nbformat": 4,
 "nbformat_minor": 2
}
